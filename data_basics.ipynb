{
 "metadata": {
  "language_info": {
   "codemirror_mode": {
    "name": "ipython",
    "version": 3
   },
   "file_extension": ".py",
   "mimetype": "text/x-python",
   "name": "python",
   "nbconvert_exporter": "python",
   "pygments_lexer": "ipython3",
   "version": "3.8.10"
  },
  "orig_nbformat": 2,
  "kernelspec": {
   "name": "python3",
   "display_name": "Python 3.8.10 64-bit ('env_ml': conda)"
  },
  "interpreter": {
   "hash": "bbc1f3fdcee3075be60260f4ce3d0ef5c210853a98261d7ad7aad0e5e674ba02"
  }
 },
 "nbformat": 4,
 "nbformat_minor": 2,
 "cells": [
  {
   "cell_type": "code",
   "execution_count": 1,
   "metadata": {},
   "outputs": [],
   "source": [
    "# Using python to read files and explore their content."
   ]
  },
  {
   "cell_type": "code",
   "execution_count": 2,
   "metadata": {},
   "outputs": [],
   "source": [
    "# Pandas library is developed to provide high level data processing capabilities\n",
    "# Pandas is the most popular library in python for data manupilation\n",
    "import pandas as pd\n",
    "\n",
    "# Numpy is a library, working with arrays of data\n",
    "import numpy as np "
   ]
  },
  {
   "cell_type": "code",
   "execution_count": 3,
   "metadata": {},
   "outputs": [],
   "source": [
    "# load data using pandas.\n",
    "df = pd.read_csv('data/nhanes_2015-2016.csv')"
   ]
  },
  {
   "cell_type": "code",
   "execution_count": 4,
   "metadata": {},
   "outputs": [
    {
     "output_type": "execute_result",
     "data": {
      "text/plain": [
       "(5735, 28)"
      ]
     },
     "metadata": {},
     "execution_count": 4
    }
   ],
   "source": [
    "# It gives the shape of our dataframe\n",
    "# It has 5735 rows and 28 columns\n",
    "df.shape"
   ]
  },
  {
   "cell_type": "code",
   "execution_count": 5,
   "metadata": {},
   "outputs": [
    {
     "output_type": "execute_result",
     "data": {
      "text/plain": [
       "    SEQN  ALQ101  ALQ110  ALQ130  SMQ020  RIAGENDR  RIDAGEYR  RIDRETH1  \\\n",
       "0  83732     1.0     NaN     1.0       1         1        62         3   \n",
       "1  83733     1.0     NaN     6.0       1         1        53         3   \n",
       "2  83734     1.0     NaN     NaN       1         1        78         3   \n",
       "3  83735     2.0     1.0     1.0       2         2        56         3   \n",
       "4  83736     2.0     1.0     1.0       2         2        42         4   \n",
       "\n",
       "   DMDCITZN  DMDEDUC2  ...  BPXSY2  BPXDI2  BMXWT  BMXHT  BMXBMI  BMXLEG  \\\n",
       "0       1.0       5.0  ...   124.0    64.0   94.8  184.5    27.8    43.3   \n",
       "1       2.0       3.0  ...   140.0    88.0   90.4  171.4    30.8    38.0   \n",
       "2       1.0       3.0  ...   132.0    44.0   83.4  170.1    28.8    35.6   \n",
       "3       1.0       5.0  ...   134.0    68.0  109.8  160.9    42.4    38.5   \n",
       "4       1.0       4.0  ...   114.0    54.0   55.2  164.9    20.3    37.4   \n",
       "\n",
       "   BMXARML  BMXARMC  BMXWAIST  HIQ210  \n",
       "0     43.6     35.9     101.1     2.0  \n",
       "1     40.0     33.2     107.9     NaN  \n",
       "2     37.0     31.0     116.5     2.0  \n",
       "3     37.7     38.3     110.1     2.0  \n",
       "4     36.0     27.2      80.4     2.0  \n",
       "\n",
       "[5 rows x 28 columns]"
      ],
      "text/html": "<div>\n<style scoped>\n    .dataframe tbody tr th:only-of-type {\n        vertical-align: middle;\n    }\n\n    .dataframe tbody tr th {\n        vertical-align: top;\n    }\n\n    .dataframe thead th {\n        text-align: right;\n    }\n</style>\n<table border=\"1\" class=\"dataframe\">\n  <thead>\n    <tr style=\"text-align: right;\">\n      <th></th>\n      <th>SEQN</th>\n      <th>ALQ101</th>\n      <th>ALQ110</th>\n      <th>ALQ130</th>\n      <th>SMQ020</th>\n      <th>RIAGENDR</th>\n      <th>RIDAGEYR</th>\n      <th>RIDRETH1</th>\n      <th>DMDCITZN</th>\n      <th>DMDEDUC2</th>\n      <th>...</th>\n      <th>BPXSY2</th>\n      <th>BPXDI2</th>\n      <th>BMXWT</th>\n      <th>BMXHT</th>\n      <th>BMXBMI</th>\n      <th>BMXLEG</th>\n      <th>BMXARML</th>\n      <th>BMXARMC</th>\n      <th>BMXWAIST</th>\n      <th>HIQ210</th>\n    </tr>\n  </thead>\n  <tbody>\n    <tr>\n      <th>0</th>\n      <td>83732</td>\n      <td>1.0</td>\n      <td>NaN</td>\n      <td>1.0</td>\n      <td>1</td>\n      <td>1</td>\n      <td>62</td>\n      <td>3</td>\n      <td>1.0</td>\n      <td>5.0</td>\n      <td>...</td>\n      <td>124.0</td>\n      <td>64.0</td>\n      <td>94.8</td>\n      <td>184.5</td>\n      <td>27.8</td>\n      <td>43.3</td>\n      <td>43.6</td>\n      <td>35.9</td>\n      <td>101.1</td>\n      <td>2.0</td>\n    </tr>\n    <tr>\n      <th>1</th>\n      <td>83733</td>\n      <td>1.0</td>\n      <td>NaN</td>\n      <td>6.0</td>\n      <td>1</td>\n      <td>1</td>\n      <td>53</td>\n      <td>3</td>\n      <td>2.0</td>\n      <td>3.0</td>\n      <td>...</td>\n      <td>140.0</td>\n      <td>88.0</td>\n      <td>90.4</td>\n      <td>171.4</td>\n      <td>30.8</td>\n      <td>38.0</td>\n      <td>40.0</td>\n      <td>33.2</td>\n      <td>107.9</td>\n      <td>NaN</td>\n    </tr>\n    <tr>\n      <th>2</th>\n      <td>83734</td>\n      <td>1.0</td>\n      <td>NaN</td>\n      <td>NaN</td>\n      <td>1</td>\n      <td>1</td>\n      <td>78</td>\n      <td>3</td>\n      <td>1.0</td>\n      <td>3.0</td>\n      <td>...</td>\n      <td>132.0</td>\n      <td>44.0</td>\n      <td>83.4</td>\n      <td>170.1</td>\n      <td>28.8</td>\n      <td>35.6</td>\n      <td>37.0</td>\n      <td>31.0</td>\n      <td>116.5</td>\n      <td>2.0</td>\n    </tr>\n    <tr>\n      <th>3</th>\n      <td>83735</td>\n      <td>2.0</td>\n      <td>1.0</td>\n      <td>1.0</td>\n      <td>2</td>\n      <td>2</td>\n      <td>56</td>\n      <td>3</td>\n      <td>1.0</td>\n      <td>5.0</td>\n      <td>...</td>\n      <td>134.0</td>\n      <td>68.0</td>\n      <td>109.8</td>\n      <td>160.9</td>\n      <td>42.4</td>\n      <td>38.5</td>\n      <td>37.7</td>\n      <td>38.3</td>\n      <td>110.1</td>\n      <td>2.0</td>\n    </tr>\n    <tr>\n      <th>4</th>\n      <td>83736</td>\n      <td>2.0</td>\n      <td>1.0</td>\n      <td>1.0</td>\n      <td>2</td>\n      <td>2</td>\n      <td>42</td>\n      <td>4</td>\n      <td>1.0</td>\n      <td>4.0</td>\n      <td>...</td>\n      <td>114.0</td>\n      <td>54.0</td>\n      <td>55.2</td>\n      <td>164.9</td>\n      <td>20.3</td>\n      <td>37.4</td>\n      <td>36.0</td>\n      <td>27.2</td>\n      <td>80.4</td>\n      <td>2.0</td>\n    </tr>\n  </tbody>\n</table>\n<p>5 rows × 28 columns</p>\n</div>"
     },
     "metadata": {},
     "execution_count": 5
    }
   ],
   "source": [
    "# Shows first five data points \n",
    "df.head()"
   ]
  },
  {
   "cell_type": "code",
   "execution_count": 6,
   "metadata": {},
   "outputs": [
    {
     "output_type": "execute_result",
     "data": {
      "text/plain": [
       "Index(['SEQN', 'ALQ101', 'ALQ110', 'ALQ130', 'SMQ020', 'RIAGENDR', 'RIDAGEYR',\n",
       "       'RIDRETH1', 'DMDCITZN', 'DMDEDUC2', 'DMDMARTL', 'DMDHHSIZ', 'WTINT2YR',\n",
       "       'SDMVPSU', 'SDMVSTRA', 'INDFMPIR', 'BPXSY1', 'BPXDI1', 'BPXSY2',\n",
       "       'BPXDI2', 'BMXWT', 'BMXHT', 'BMXBMI', 'BMXLEG', 'BMXARML', 'BMXARMC',\n",
       "       'BMXWAIST', 'HIQ210'],\n",
       "      dtype='object')"
      ]
     },
     "metadata": {},
     "execution_count": 6
    }
   ],
   "source": [
    "df.columns"
   ]
  },
  {
   "cell_type": "code",
   "execution_count": 7,
   "metadata": {},
   "outputs": [
    {
     "output_type": "execute_result",
     "data": {
      "text/plain": [
       "SEQN          int64\n",
       "ALQ101      float64\n",
       "ALQ110      float64\n",
       "ALQ130      float64\n",
       "SMQ020        int64\n",
       "RIAGENDR      int64\n",
       "RIDAGEYR      int64\n",
       "RIDRETH1      int64\n",
       "DMDCITZN    float64\n",
       "DMDEDUC2    float64\n",
       "DMDMARTL    float64\n",
       "DMDHHSIZ      int64\n",
       "WTINT2YR    float64\n",
       "SDMVPSU       int64\n",
       "SDMVSTRA      int64\n",
       "INDFMPIR    float64\n",
       "BPXSY1      float64\n",
       "BPXDI1      float64\n",
       "BPXSY2      float64\n",
       "BPXDI2      float64\n",
       "BMXWT       float64\n",
       "BMXHT       float64\n",
       "BMXBMI      float64\n",
       "BMXLEG      float64\n",
       "BMXARML     float64\n",
       "BMXARMC     float64\n",
       "BMXWAIST    float64\n",
       "HIQ210      float64\n",
       "dtype: object"
      ]
     },
     "metadata": {},
     "execution_count": 7
    }
   ],
   "source": [
    "# To look for each column data types\n",
    "df.dtypes"
   ]
  },
  {
   "cell_type": "code",
   "execution_count": 8,
   "metadata": {},
   "outputs": [],
   "source": [
    "# 'DMDEDUC2' is the education column \n",
    "# if we want to extarct all values to one variable, we have four different approaches\n",
    "a = df['DMDEDUC2']\n",
    "b = df.loc[:, 'DMDEDUC2']\n",
    "c = df.DMDEDUC2\n",
    "d = df.iloc[:, 9] "
   ]
  },
  {
   "cell_type": "code",
   "execution_count": 9,
   "metadata": {},
   "outputs": [
    {
     "output_type": "stream",
     "name": "stdout",
     "text": [
      "1.0 9.0\n1.0 9.0\n1.0 9.0\n1.0 9.0\n"
     ]
    }
   ],
   "source": [
    "# We can also find min and max values\n",
    "print(df['DMDEDUC2'].min(), df['DMDEDUC2'].max())\n",
    "print(b.min(), b.max())\n",
    "print(c.min(), c.max())\n",
    "print(df.iloc[:, 9].min(), df.iloc[:, 9].max())"
   ]
  },
  {
   "cell_type": "code",
   "execution_count": 10,
   "metadata": {},
   "outputs": [],
   "source": [
    "# Missing Values\n",
    "# In the dataset some values may be missing and represented as 'NA', 'NULL' and 'NaN'\n",
    "# Pandas allows us to identify missing values using .isnull() and .notnull() to collect missing and non-missing values "
   ]
  },
  {
   "cell_type": "code",
   "execution_count": 11,
   "metadata": {},
   "outputs": [
    {
     "output_type": "execute_result",
     "data": {
      "text/plain": [
       "SEQN           0\n",
       "ALQ101       527\n",
       "ALQ110      4004\n",
       "ALQ130      2356\n",
       "SMQ020         0\n",
       "RIAGENDR       0\n",
       "RIDAGEYR       0\n",
       "RIDRETH1       0\n",
       "DMDCITZN       1\n",
       "DMDEDUC2     261\n",
       "DMDMARTL     261\n",
       "DMDHHSIZ       0\n",
       "WTINT2YR       0\n",
       "SDMVPSU        0\n",
       "SDMVSTRA       0\n",
       "INDFMPIR     601\n",
       "BPXSY1       334\n",
       "BPXDI1       334\n",
       "BPXSY2       200\n",
       "BPXDI2       200\n",
       "BMXWT         69\n",
       "BMXHT         62\n",
       "BMXBMI        73\n",
       "BMXLEG       390\n",
       "BMXARML      308\n",
       "BMXARMC      308\n",
       "BMXWAIST     367\n",
       "HIQ210      1003\n",
       "dtype: int64"
      ]
     },
     "metadata": {},
     "execution_count": 11
    }
   ],
   "source": [
    "#To check total null values \n",
    "pd.isnull(df).sum()"
   ]
  },
  {
   "cell_type": "code",
   "execution_count": 12,
   "metadata": {},
   "outputs": [
    {
     "output_type": "execute_result",
     "data": {
      "text/plain": [
       "SEQN        5735\n",
       "ALQ101      5208\n",
       "ALQ110      1731\n",
       "ALQ130      3379\n",
       "SMQ020      5735\n",
       "RIAGENDR    5735\n",
       "RIDAGEYR    5735\n",
       "RIDRETH1    5735\n",
       "DMDCITZN    5734\n",
       "DMDEDUC2    5474\n",
       "DMDMARTL    5474\n",
       "DMDHHSIZ    5735\n",
       "WTINT2YR    5735\n",
       "SDMVPSU     5735\n",
       "SDMVSTRA    5735\n",
       "INDFMPIR    5134\n",
       "BPXSY1      5401\n",
       "BPXDI1      5401\n",
       "BPXSY2      5535\n",
       "BPXDI2      5535\n",
       "BMXWT       5666\n",
       "BMXHT       5673\n",
       "BMXBMI      5662\n",
       "BMXLEG      5345\n",
       "BMXARML     5427\n",
       "BMXARMC     5427\n",
       "BMXWAIST    5368\n",
       "HIQ210      4732\n",
       "dtype: int64"
      ]
     },
     "metadata": {},
     "execution_count": 12
    }
   ],
   "source": [
    "# To check total not null values\n",
    "pd.notnull(df).sum()"
   ]
  },
  {
   "cell_type": "code",
   "execution_count": 13,
   "metadata": {},
   "outputs": [
    {
     "output_type": "execute_result",
     "data": {
      "text/plain": [
       "       SEQN  ALQ101  ALQ110  ALQ130  SMQ020  RIAGENDR  RIDAGEYR  RIDRETH1  \\\n",
       "0     83732     1.0     NaN     1.0       1         1        62         3   \n",
       "1     83733     1.0     NaN     6.0       1         1        53         3   \n",
       "2     83734     1.0     NaN     NaN       1         1        78         3   \n",
       "3     83735     2.0     1.0     1.0       2         2        56         3   \n",
       "4     83736     2.0     1.0     1.0       2         2        42         4   \n",
       "...     ...     ...     ...     ...     ...       ...       ...       ...   \n",
       "5730  93695     2.0     2.0     NaN       1         2        76         3   \n",
       "5731  93696     2.0     2.0     NaN       2         1        26         3   \n",
       "5732  93697     1.0     NaN     1.0       1         2        80         3   \n",
       "5733  93700     NaN     NaN     NaN       1         1        35         3   \n",
       "5734  93702     1.0     NaN     2.0       2         2        24         3   \n",
       "\n",
       "      DMDCITZN  DMDEDUC2  ...  BPXSY2  BPXDI2  BMXWT  BMXHT  BMXBMI  BMXLEG  \\\n",
       "0          1.0       5.0  ...   124.0    64.0   94.8  184.5    27.8    43.3   \n",
       "1          2.0       3.0  ...   140.0    88.0   90.4  171.4    30.8    38.0   \n",
       "2          1.0       3.0  ...   132.0    44.0   83.4  170.1    28.8    35.6   \n",
       "3          1.0       5.0  ...   134.0    68.0  109.8  160.9    42.4    38.5   \n",
       "4          1.0       4.0  ...   114.0    54.0   55.2  164.9    20.3    37.4   \n",
       "...        ...       ...  ...     ...     ...    ...    ...     ...     ...   \n",
       "5730       1.0       3.0  ...   112.0    46.0   59.1  165.8    21.5    38.2   \n",
       "5731       1.0       5.0  ...   116.0    76.0  112.1  182.2    33.8    43.4   \n",
       "5732       1.0       4.0  ...   146.0    58.0   71.7  152.2    31.0    31.3   \n",
       "5733       2.0       1.0  ...   106.0    66.0   78.2  173.3    26.0    40.3   \n",
       "5734       1.0       5.0  ...   114.0    68.0   58.3  165.0    21.4    38.2   \n",
       "\n",
       "      BMXARML  BMXARMC  BMXWAIST  HIQ210  \n",
       "0        43.6     35.9     101.1     2.0  \n",
       "1        40.0     33.2     107.9     NaN  \n",
       "2        37.0     31.0     116.5     2.0  \n",
       "3        37.7     38.3     110.1     2.0  \n",
       "4        36.0     27.2      80.4     2.0  \n",
       "...       ...      ...       ...     ...  \n",
       "5730     37.0     29.5      95.0     2.0  \n",
       "5731     41.8     42.3     110.2     2.0  \n",
       "5732     37.5     28.8       NaN     2.0  \n",
       "5733     37.5     30.6      98.9     2.0  \n",
       "5734     33.5     26.2      72.5     2.0  \n",
       "\n",
       "[5735 rows x 28 columns]"
      ],
      "text/html": "<div>\n<style scoped>\n    .dataframe tbody tr th:only-of-type {\n        vertical-align: middle;\n    }\n\n    .dataframe tbody tr th {\n        vertical-align: top;\n    }\n\n    .dataframe thead th {\n        text-align: right;\n    }\n</style>\n<table border=\"1\" class=\"dataframe\">\n  <thead>\n    <tr style=\"text-align: right;\">\n      <th></th>\n      <th>SEQN</th>\n      <th>ALQ101</th>\n      <th>ALQ110</th>\n      <th>ALQ130</th>\n      <th>SMQ020</th>\n      <th>RIAGENDR</th>\n      <th>RIDAGEYR</th>\n      <th>RIDRETH1</th>\n      <th>DMDCITZN</th>\n      <th>DMDEDUC2</th>\n      <th>...</th>\n      <th>BPXSY2</th>\n      <th>BPXDI2</th>\n      <th>BMXWT</th>\n      <th>BMXHT</th>\n      <th>BMXBMI</th>\n      <th>BMXLEG</th>\n      <th>BMXARML</th>\n      <th>BMXARMC</th>\n      <th>BMXWAIST</th>\n      <th>HIQ210</th>\n    </tr>\n  </thead>\n  <tbody>\n    <tr>\n      <th>0</th>\n      <td>83732</td>\n      <td>1.0</td>\n      <td>NaN</td>\n      <td>1.0</td>\n      <td>1</td>\n      <td>1</td>\n      <td>62</td>\n      <td>3</td>\n      <td>1.0</td>\n      <td>5.0</td>\n      <td>...</td>\n      <td>124.0</td>\n      <td>64.0</td>\n      <td>94.8</td>\n      <td>184.5</td>\n      <td>27.8</td>\n      <td>43.3</td>\n      <td>43.6</td>\n      <td>35.9</td>\n      <td>101.1</td>\n      <td>2.0</td>\n    </tr>\n    <tr>\n      <th>1</th>\n      <td>83733</td>\n      <td>1.0</td>\n      <td>NaN</td>\n      <td>6.0</td>\n      <td>1</td>\n      <td>1</td>\n      <td>53</td>\n      <td>3</td>\n      <td>2.0</td>\n      <td>3.0</td>\n      <td>...</td>\n      <td>140.0</td>\n      <td>88.0</td>\n      <td>90.4</td>\n      <td>171.4</td>\n      <td>30.8</td>\n      <td>38.0</td>\n      <td>40.0</td>\n      <td>33.2</td>\n      <td>107.9</td>\n      <td>NaN</td>\n    </tr>\n    <tr>\n      <th>2</th>\n      <td>83734</td>\n      <td>1.0</td>\n      <td>NaN</td>\n      <td>NaN</td>\n      <td>1</td>\n      <td>1</td>\n      <td>78</td>\n      <td>3</td>\n      <td>1.0</td>\n      <td>3.0</td>\n      <td>...</td>\n      <td>132.0</td>\n      <td>44.0</td>\n      <td>83.4</td>\n      <td>170.1</td>\n      <td>28.8</td>\n      <td>35.6</td>\n      <td>37.0</td>\n      <td>31.0</td>\n      <td>116.5</td>\n      <td>2.0</td>\n    </tr>\n    <tr>\n      <th>3</th>\n      <td>83735</td>\n      <td>2.0</td>\n      <td>1.0</td>\n      <td>1.0</td>\n      <td>2</td>\n      <td>2</td>\n      <td>56</td>\n      <td>3</td>\n      <td>1.0</td>\n      <td>5.0</td>\n      <td>...</td>\n      <td>134.0</td>\n      <td>68.0</td>\n      <td>109.8</td>\n      <td>160.9</td>\n      <td>42.4</td>\n      <td>38.5</td>\n      <td>37.7</td>\n      <td>38.3</td>\n      <td>110.1</td>\n      <td>2.0</td>\n    </tr>\n    <tr>\n      <th>4</th>\n      <td>83736</td>\n      <td>2.0</td>\n      <td>1.0</td>\n      <td>1.0</td>\n      <td>2</td>\n      <td>2</td>\n      <td>42</td>\n      <td>4</td>\n      <td>1.0</td>\n      <td>4.0</td>\n      <td>...</td>\n      <td>114.0</td>\n      <td>54.0</td>\n      <td>55.2</td>\n      <td>164.9</td>\n      <td>20.3</td>\n      <td>37.4</td>\n      <td>36.0</td>\n      <td>27.2</td>\n      <td>80.4</td>\n      <td>2.0</td>\n    </tr>\n    <tr>\n      <th>...</th>\n      <td>...</td>\n      <td>...</td>\n      <td>...</td>\n      <td>...</td>\n      <td>...</td>\n      <td>...</td>\n      <td>...</td>\n      <td>...</td>\n      <td>...</td>\n      <td>...</td>\n      <td>...</td>\n      <td>...</td>\n      <td>...</td>\n      <td>...</td>\n      <td>...</td>\n      <td>...</td>\n      <td>...</td>\n      <td>...</td>\n      <td>...</td>\n      <td>...</td>\n      <td>...</td>\n    </tr>\n    <tr>\n      <th>5730</th>\n      <td>93695</td>\n      <td>2.0</td>\n      <td>2.0</td>\n      <td>NaN</td>\n      <td>1</td>\n      <td>2</td>\n      <td>76</td>\n      <td>3</td>\n      <td>1.0</td>\n      <td>3.0</td>\n      <td>...</td>\n      <td>112.0</td>\n      <td>46.0</td>\n      <td>59.1</td>\n      <td>165.8</td>\n      <td>21.5</td>\n      <td>38.2</td>\n      <td>37.0</td>\n      <td>29.5</td>\n      <td>95.0</td>\n      <td>2.0</td>\n    </tr>\n    <tr>\n      <th>5731</th>\n      <td>93696</td>\n      <td>2.0</td>\n      <td>2.0</td>\n      <td>NaN</td>\n      <td>2</td>\n      <td>1</td>\n      <td>26</td>\n      <td>3</td>\n      <td>1.0</td>\n      <td>5.0</td>\n      <td>...</td>\n      <td>116.0</td>\n      <td>76.0</td>\n      <td>112.1</td>\n      <td>182.2</td>\n      <td>33.8</td>\n      <td>43.4</td>\n      <td>41.8</td>\n      <td>42.3</td>\n      <td>110.2</td>\n      <td>2.0</td>\n    </tr>\n    <tr>\n      <th>5732</th>\n      <td>93697</td>\n      <td>1.0</td>\n      <td>NaN</td>\n      <td>1.0</td>\n      <td>1</td>\n      <td>2</td>\n      <td>80</td>\n      <td>3</td>\n      <td>1.0</td>\n      <td>4.0</td>\n      <td>...</td>\n      <td>146.0</td>\n      <td>58.0</td>\n      <td>71.7</td>\n      <td>152.2</td>\n      <td>31.0</td>\n      <td>31.3</td>\n      <td>37.5</td>\n      <td>28.8</td>\n      <td>NaN</td>\n      <td>2.0</td>\n    </tr>\n    <tr>\n      <th>5733</th>\n      <td>93700</td>\n      <td>NaN</td>\n      <td>NaN</td>\n      <td>NaN</td>\n      <td>1</td>\n      <td>1</td>\n      <td>35</td>\n      <td>3</td>\n      <td>2.0</td>\n      <td>1.0</td>\n      <td>...</td>\n      <td>106.0</td>\n      <td>66.0</td>\n      <td>78.2</td>\n      <td>173.3</td>\n      <td>26.0</td>\n      <td>40.3</td>\n      <td>37.5</td>\n      <td>30.6</td>\n      <td>98.9</td>\n      <td>2.0</td>\n    </tr>\n    <tr>\n      <th>5734</th>\n      <td>93702</td>\n      <td>1.0</td>\n      <td>NaN</td>\n      <td>2.0</td>\n      <td>2</td>\n      <td>2</td>\n      <td>24</td>\n      <td>3</td>\n      <td>1.0</td>\n      <td>5.0</td>\n      <td>...</td>\n      <td>114.0</td>\n      <td>68.0</td>\n      <td>58.3</td>\n      <td>165.0</td>\n      <td>21.4</td>\n      <td>38.2</td>\n      <td>33.5</td>\n      <td>26.2</td>\n      <td>72.5</td>\n      <td>2.0</td>\n    </tr>\n  </tbody>\n</table>\n<p>5735 rows × 28 columns</p>\n</div>"
     },
     "metadata": {},
     "execution_count": 13
    }
   ],
   "source": [
    "df"
   ]
  },
  {
   "cell_type": "code",
   "execution_count": null,
   "metadata": {},
   "outputs": [],
   "source": []
  }
 ]
}